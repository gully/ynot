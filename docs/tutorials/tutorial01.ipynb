{
 "cells": [
  {
   "cell_type": "markdown",
   "id": "f4e43c2b",
   "metadata": {},
   "source": [
    "# Step 1: Setting up your GPU"
   ]
  },
  {
   "cell_type": "markdown",
   "id": "34583944",
   "metadata": {},
   "source": [
    "You will pretty much need a GPU to get started.  It is hypothetically possible to proceed with a CPU, but the computations will be really slow.  "
   ]
  },
  {
   "cell_type": "code",
   "execution_count": 1,
   "id": "be6ee70e",
   "metadata": {},
   "outputs": [],
   "source": [
    "import torch"
   ]
  },
  {
   "cell_type": "code",
   "execution_count": 2,
   "id": "ec1a243e",
   "metadata": {},
   "outputs": [
    {
     "name": "stdout",
     "output_type": "stream",
     "text": [
      "Stop! You should only proceed with a GPU.\n"
     ]
    }
   ],
   "source": [
    "if torch.cuda.is_available():\n",
    "    print('Hooray, you have a GPU!')\n",
    "else:\n",
    "    print(\"Stop! You should only proceed with a GPU.\")"
   ]
  }
 ],
 "metadata": {
  "kernelspec": {
   "display_name": "Python 3 (ipykernel)",
   "language": "python",
   "name": "python3"
  },
  "language_info": {
   "codemirror_mode": {
    "name": "ipython",
    "version": 3
   },
   "file_extension": ".py",
   "mimetype": "text/x-python",
   "name": "python",
   "nbconvert_exporter": "python",
   "pygments_lexer": "ipython3",
   "version": "3.10.12"
  }
 },
 "nbformat": 4,
 "nbformat_minor": 5
}
