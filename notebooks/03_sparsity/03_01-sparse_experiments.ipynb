{
 "cells": [
  {
   "cell_type": "markdown",
   "id": "a5865620",
   "metadata": {},
   "source": [
    "# Sparse experiments\n",
    "\n",
    "Aug 7, 2023"
   ]
  },
  {
   "cell_type": "code",
   "execution_count": null,
   "id": "4916453b",
   "metadata": {},
   "outputs": [],
   "source": [
    "import matplotlib.pyplot as plt\n",
    "import torch\n",
    "%config InlineBackend.figure_format='retina'\n",
    "torch.__version__"
   ]
  },
  {
   "cell_type": "code",
   "execution_count": null,
   "id": "d58eede3",
   "metadata": {},
   "outputs": [],
   "source": [
    "nx, ny = (200, 200)\n",
    "mat1 = torch.zeros((nx, ny))"
   ]
  },
  {
   "cell_type": "code",
   "execution_count": null,
   "id": "b678ab74",
   "metadata": {},
   "outputs": [],
   "source": [
    "mat1[35, :] = 1"
   ]
  },
  {
   "cell_type": "code",
   "execution_count": null,
   "id": "e38667fc",
   "metadata": {},
   "outputs": [],
   "source": [
    "plt.imshow(mat1, origin='lower');"
   ]
  },
  {
   "cell_type": "code",
   "execution_count": null,
   "id": "191f2c27",
   "metadata": {},
   "outputs": [],
   "source": [
    "kx, ky = (11,11)"
   ]
  },
  {
   "cell_type": "code",
   "execution_count": null,
   "id": "ea328bf7",
   "metadata": {},
   "outputs": [],
   "source": [
    "k1 = torch.ones((kx,ky))"
   ]
  },
  {
   "cell_type": "code",
   "execution_count": null,
   "id": "efdbbbc7",
   "metadata": {},
   "outputs": [],
   "source": [
    "mat1.unsqueeze(2).shape"
   ]
  },
  {
   "cell_type": "code",
   "execution_count": null,
   "id": "c097fc5c",
   "metadata": {},
   "outputs": [],
   "source": [
    "padding = kx//2\n",
    "padding"
   ]
  },
  {
   "cell_type": "code",
   "execution_count": null,
   "id": "d2e82b55",
   "metadata": {},
   "outputs": [],
   "source": [
    "out2 = torch.conv2d(mat1.unsqueeze(0).unsqueeze(0), k1.unsqueeze(0).unsqueeze(0), padding=padding).squeeze()"
   ]
  },
  {
   "cell_type": "code",
   "execution_count": null,
   "id": "a06677c1",
   "metadata": {},
   "outputs": [],
   "source": [
    "out2.shape"
   ]
  },
  {
   "cell_type": "code",
   "execution_count": null,
   "id": "d493100c",
   "metadata": {},
   "outputs": [],
   "source": [
    "plt.imshow(out2, origin='lower')"
   ]
  },
  {
   "cell_type": "code",
   "execution_count": null,
   "id": "a3041769",
   "metadata": {},
   "outputs": [],
   "source": [
    "mat2 = mat1.to_sparse()"
   ]
  },
  {
   "cell_type": "code",
   "execution_count": null,
   "id": "010d2a80",
   "metadata": {},
   "outputs": [],
   "source": [
    "torch.conv2d(mat1.unsqueeze(0).unsqueeze(0), k1.unsqueeze(0).unsqueeze(0)).squeeze()"
   ]
  },
  {
   "cell_type": "markdown",
   "id": "cf068abc",
   "metadata": {},
   "source": [
    "You can convolve dense matrices:"
   ]
  },
  {
   "cell_type": "code",
   "execution_count": null,
   "id": "cee421be",
   "metadata": {},
   "outputs": [],
   "source": [
    "out1 = torch.conv2d(mat1.unsqueeze(0).unsqueeze(0), k1.unsqueeze(0).unsqueeze(0)).squeeze()"
   ]
  },
  {
   "cell_type": "markdown",
   "id": "590eb9ac",
   "metadata": {},
   "source": [
    "...but not sparse ones:"
   ]
  },
  {
   "cell_type": "code",
   "execution_count": null,
   "id": "f3d372ea",
   "metadata": {},
   "outputs": [],
   "source": [
    "out2 = torch.conv2d(mat2.unsqueeze(0).unsqueeze(0), k1.unsqueeze(0).unsqueeze(0)).squeeze()"
   ]
  },
  {
   "cell_type": "markdown",
   "id": "f33f182d",
   "metadata": {},
   "source": [
    "Lesson learned: Sparse matrices do not work out-of-the-box with `conv2d`.  We could consider a Toeplitz matrix, or some workaround, but maybe we don't have to.  \n",
    "\n",
    "To be continued..."
   ]
  }
 ],
 "metadata": {
  "kernelspec": {
   "display_name": "Python 3 (ipykernel)",
   "language": "python",
   "name": "python3"
  },
  "language_info": {
   "codemirror_mode": {
    "name": "ipython",
    "version": 3
   },
   "file_extension": ".py",
   "mimetype": "text/x-python",
   "name": "python",
   "nbconvert_exporter": "python",
   "pygments_lexer": "ipython3",
   "version": "3.10.12"
  }
 },
 "nbformat": 4,
 "nbformat_minor": 5
}
